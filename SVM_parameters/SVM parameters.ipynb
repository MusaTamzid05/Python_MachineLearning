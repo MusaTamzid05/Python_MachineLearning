{
 "cells": [
  {
   "cell_type": "code",
   "execution_count": 31,
   "metadata": {
    "collapsed": true
   },
   "outputs": [],
   "source": [
    "from sklearn.datasets import load_iris\n",
    "iris = load_iris()"
   ]
  },
  {
   "cell_type": "code",
   "execution_count": 36,
   "metadata": {
    "collapsed": false
   },
   "outputs": [],
   "source": [
    "X = iris.data[: , [1,2,3]]\n",
    "y = iris.target"
   ]
  },
  {
   "cell_type": "code",
   "execution_count": 69,
   "metadata": {
    "collapsed": false
   },
   "outputs": [],
   "source": [
    "from sklearn.model_selection import train_test_split\n",
    "from sklearn.preprocessing import StandardScaler\n",
    "\n",
    "X_train , X_test , y_train , y_test = train_test_split(X , y ,test_size = 0.3 , random_state = 0)\n",
    "\n",
    "sc = StandardScaler()\n",
    "sc.fit(X_train)\n",
    "X_train_std = sc.transform(X_train)\n",
    "X_test_std = sc.transform(X_test)"
   ]
  },
  {
   "cell_type": "code",
   "execution_count": 81,
   "metadata": {
    "collapsed": true
   },
   "outputs": [],
   "source": [
    "\n",
    "from sklearn.svm import SVC\n",
    "from sklearn.metrics import accuracy_score\n",
    "\n",
    "# shows the accuracy rate using diffect parameter in svm\n",
    "\n",
    "def test_svm(kernel = \"rbf\" , C = 1.0 , gamma = \"auto\"):\n",
    "    \n",
    "   \n",
    "    clf = SVC(kernel = kernel , C = C , gamma = gamma)\n",
    "    clf.fit(X_train_std,y_train)\n",
    "    y_pred = clf.predict(X_test_std)\n",
    "    print(\"Accuracy rate:{}\".format(accuracy_score(y_pred , y_test)))\n",
    "    \n",
    "    \n",
    "    \n",
    "    "
   ]
  },
  {
   "cell_type": "code",
   "execution_count": 75,
   "metadata": {
    "collapsed": false
   },
   "outputs": [
    {
     "name": "stdout",
     "output_type": "stream",
     "text": [
      "Accuracy rate:0.9777777777777777\n",
      "Accuracy rate:0.9333333333333333\n",
      "Accuracy rate:0.9777777777777777\n",
      "Accuracy rate:0.9777777777777777\n"
     ]
    }
   ],
   "source": [
    "test_svm(kernel = \"linear\")\n",
    "test_svm(kernel = \"poly\")\n",
    "test_svm(kernel = \"rbf\")\n",
    "test_svm(kernel = \"sigmoid\")\n"
   ]
  },
  {
   "cell_type": "code",
   "execution_count": 82,
   "metadata": {
    "collapsed": false
   },
   "outputs": [
    {
     "name": "stdout",
     "output_type": "stream",
     "text": [
      "Accuracy rate:0.9777777777777777\n",
      "Accuracy rate:0.9777777777777777\n"
     ]
    }
   ],
   "source": [
    "test_svm(  gamma = 1.0)\n",
    "test_svm(gamma = 0.1)\n"
   ]
  },
  {
   "cell_type": "code",
   "execution_count": 80,
   "metadata": {
    "collapsed": false
   },
   "outputs": [
    {
     "name": "stdout",
     "output_type": "stream",
     "text": [
      "0.5\n",
      "Accuracy rate:0.9777777777777777\n",
      "1.0\n",
      "Accuracy rate:0.9777777777777777\n"
     ]
    }
   ],
   "source": [
    "test_svm(C = 0.5)\n",
    "test_svm(C = 1.0)\n",
    "# try out in non linear datasets to ge"
   ]
  }
 ],
 "metadata": {
  "kernelspec": {
   "display_name": "Python 3",
   "language": "python",
   "name": "python3"
  },
  "language_info": {
   "codemirror_mode": {
    "name": "ipython",
    "version": 3
   },
   "file_extension": ".py",
   "mimetype": "text/x-python",
   "name": "python",
   "nbconvert_exporter": "python",
   "pygments_lexer": "ipython3",
   "version": "3.5.2"
  }
 },
 "nbformat": 4,
 "nbformat_minor": 2
}
